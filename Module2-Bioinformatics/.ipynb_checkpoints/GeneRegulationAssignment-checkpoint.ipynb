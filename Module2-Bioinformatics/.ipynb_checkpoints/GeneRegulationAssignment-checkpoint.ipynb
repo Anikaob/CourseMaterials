{
 "cells": [
  {
   "cell_type": "code",
   "execution_count": 55,
   "id": "68b73000-7c00-4a6c-84ba-4968e4464e0c",
   "metadata": {
    "tags": []
   },
   "outputs": [],
   "source": [
    "import numpy as np\n",
    "import random"
   ]
  },
  {
   "cell_type": "code",
   "execution_count": 57,
   "id": "a02c63c1-359d-4ca9-8c69-7502da38fab1",
   "metadata": {
    "tags": []
   },
   "outputs": [],
   "source": [
    "GeneRegTopics = ['Signal Transduction and Cellular Signaling - Receptor-Mediated Signaling: Activation of gene expression in response to extracellular signals.',\n",
    "'Signal Transduction and Cellular Signaling - Intracellular Signaling Cascades: Series of molecular events triggered by signaling molecules.',\n",
    "'Signal Transduction and Cellular Signaling - Second Messenger Systems: Involvement of molecules like cAMP, cGMP, and calcium ions.',\n",
    "'Signal Transduction and Cellular Signaling - Phosphorylation/Dephosphorylation: Post-translational modification of proteins to activate or deactivate signaling pathways.',\n",
    "'Signal Transduction and Cellular Signaling - G-protein Coupled Receptors (GPCRs): Activation of gene expression through GPCR-mediated pathways.',\n",
    "'Chromatin Remodeling and Epigenetic Regulation - Histone Modification: Acetylation, methylation, phosphorylation of histone proteins.',\n",
    "'Chromatin Remodeling and Epigenetic Regulation - DNA Methylation: Addition of methyl groups to DNA, influencing gene expression.',\n",
    "'Chromatin Remodeling and Epigenetic Regulation - Chromatin Remodeling Complexes: Alteration of chromatin structure to allow or restrict transcription.',\n",
    "'Chromatin Remodeling and Epigenetic Regulation - Non-Coding RNAs (ncRNAs): Involvement of microRNAs (miRNAs) and long non-coding RNAs (lncRNAs).',\n",
    "'Promoter Activation and Transcription Initiation - Promoter Binding Proteins: Transcription factors binding to gene promoters.',\n",
    "'Promoter Activation and Transcription Initiation - Enhancers and Silencers: DNA elements influencing transcription positively (enhancers) or negatively (silencers).',\n",
    "'Promoter Activation and Transcription Initiation - Transcriptional Coactivators/Co-repressors: Proteins that enhance or inhibit transcriptional activity.',\n",
    "'Promoter Activation and Transcription Initiation - RNA Polymerase Recruitment: Binding of RNA polymerase to gene promoters.',\n",
    "'Promoter Activation and Transcription Initiation - Mediator Complex: Bridges between transcription factors and RNA polymerase.',\n",
    "'Transcription Elongation and Termination - Elongation Factors: Proteins facilitating RNA polymerase movement along the DNA.',\n",
    "'Transcription Elongation and Termination - Pausing and Anti-Pausing Factors: Regulation of RNA polymerase pausing and elongation.',\n",
    "'Transcription Elongation and Termination - Terminator Sequences: Signals marking the end of transcription.',\n",
    "'RNA Processing and Modification - RNA Splicing: Removal of introns and joining of exons.',\n",
    "'RNA Processing and Modification - Polyadenylation: Addition of poly-A tail to mRNA.',\n",
    "'RNA Processing and Modification - RNA Editing: Alteration of nucleotide sequence in RNA transcripts.',\n",
    "'mRNA Transport and Localization - Nuclear Export: Transport of mature mRNA from the nucleus to the cytoplasm.',\n",
    "'mRNA Transport and Localization - mRNA Localization Signals: Sequences directing mRNA to specific cellular locations.',\n",
    "'Translation Initiation and Elongation - Ribosome Binding Sites: Recognition of mRNA by ribosomes.',\n",
    "'Translation Initiation and Elongation - Initiator tRNA: tRNA carrying the first amino acid in translation.',\n",
    "'Translation Initiation and Elongation - eIFs (Eukaryotic Initiation Factors): Proteins facilitating translation initiation.',   \n",
    "'Translation Initiation and Elongation - Termination Factors: Proteins involved in translation termination.',\n",
    "'Post-Translational Modification - Protein Phosphorylation: Addition of phosphate groups to proteins.',\n",
    "'Post-Translational Modification - Ubiquitination: Addition of ubiquitin molecules for protein degradation.',\n",
    "'Post-Translational Modification - Acetylation/Deacetylation: Addition or removal of acetyl groups to regulate protein function.', \n",
    "'Post-Translational Modification - Glycosylation: Addition of sugar moieties to proteins.',\n",
    "'Protein Folding and Stability - Chaperone Proteins: Assist in proper protein folding.',    \n",
    "'Protein Folding and Stability - Proteasomal Degradation: Targeted degradation of proteins by the proteasome.',\n",
    "'Cellular Localization - Nuclear Localization Signals (NLS): Sequences directing proteins to the nucleus.',    \n",
    "'Cellular Localization - Mitochondrial Targeting Signals: Sequences directing proteins to mitochondria.',    \n",
    "'Cellular Localization - Endoplasmic Reticulum (ER) Targeting Signals: Sequences directing proteins to the ER.',\n",
    "'Feedback Regulation and Feedback Inhibition - Negative Feedback Loops: Mechanisms to dampen excessive gene expression.',    \n",
    "'Feedback Regulation and Feedback Inhibition - miRNA-mediated Regulation: Post-transcriptional regulation by microRNAs.',\n",
    "'Environmental and Metabolic Regulation - Nutrient Availability: Availability of nutrients influencing gene expression.',\n",
    "'Environmental and Metabolic Regulation - Oxygen and Redox Regulation: Cellular oxygen levels affecting gene expression.', \n",
    "'Environmental and Metabolic Regulation - Metabolite Sensing: Cellular metabolite levels impacting gene regulation.',\n",
    "'Stress Response - Heat Shock Proteins (HSPs): Induction in response to cellular stress.',\n",
    "'Stress Response - DNA Damage Response: Activation of repair mechanisms in response to DNA damage.',\n",
    "'Hormonal Regulation - Steroid Hormones: Influence gene expression through nuclear receptors.',    \n",
    "'Hormonal Regulation - Peptide Hormones: Signaling cascades activated by peptide hormones.',\n",
    "'Epistasis and Genetic Interaction - Genetic Interactions: Interaction between genes influencing expression patterns.',    \n",
    "'Epistasis and Genetic Interaction - Epistasis: Gene interaction where the effect of one gene depends on the presence of another.',\n",
    "'Non-Genetic Inheritance - Transgenerational Epigenetic Inheritance: Inheritance of epigenetic marks across generations.',\n",
    "'Cell Cycle Regulation - Cyclins and Cyclin-Dependent Kinases (CDKs): Regulate gene expression during the cell cycle.',\n",
    "'Cellular Differentiation - Master Regulator Genes: Genes controlling cell fate determination and differentiation.',   \n",
    "'Cell Signaling Gradients - Gradients of signaling molecules influencing gene expression patterns.']\n",
    "\n",
    "random.shuffle(GeneRegTopics)"
   ]
  },
  {
   "cell_type": "code",
   "execution_count": 65,
   "id": "880cf97f-a552-45e6-8b18-feb55b01d5f2",
   "metadata": {
    "tags": []
   },
   "outputs": [],
   "source": [
    "Students = ['Ardehali, Shelby',\n",
    "'Balliew, Becca',\n",
    "'Bauer, Shelby',\n",
    "'Bermingham, Sarah',\n",
    "'Blais, Nicole',\n",
    "'Boulger, Carley',\n",
    "'Buffington, Cassandra',\n",
    "'Cerullo, Alex',\n",
    "'Cox, Mikayla',\n",
    "'David, Alex',\n",
    "'Fiedler, Zoe',\n",
    "'Frueh, Lauren',\n",
    "'Garrity, Keigan',\n",
    "'Graul, Sydney',\n",
    "'Harrell, Ethan',\n",
    "'Hrustanovic, Kanita',\n",
    "'Husen, Zabiba',\n",
    "'Jones, Austin',\n",
    "'Knutsen, Mitchell',\n",
    "'Lemma, Isabelle',\n",
    "'Manoharan, Sherly',\n",
    "'Metheny, Mark',\n",
    "'OBrian, Anika',\n",
    "'Tangen, Abbie']"
   ]
  },
  {
   "cell_type": "code",
   "execution_count": 69,
   "id": "65ca202b-2b50-461a-b835-0436b4a3e81d",
   "metadata": {
    "tags": []
   },
   "outputs": [
    {
     "name": "stdout",
     "output_type": "stream",
     "text": [
      "Ardehali, Shelby will write about Epistasis and Genetic Interaction - Genetic Interactions: Interaction between genes influencing expression patterns.\n",
      "\n",
      "Balliew, Becca will write about Protein Folding and Stability - Proteasomal Degradation: Targeted degradation of proteins by the proteasome.\n",
      "\n",
      "Bauer, Shelby will write about Epistasis and Genetic Interaction - Epistasis: Gene interaction where the effect of one gene depends on the presence of another.\n",
      "\n",
      "Bermingham, Sarah will write about mRNA Transport and Localization - Nuclear Export: Transport of mature mRNA from the nucleus to the cytoplasm.\n",
      "\n",
      "Blais, Nicole will write about Post-Translational Modification - Glycosylation: Addition of sugar moieties to proteins.\n",
      "\n",
      "Boulger, Carley will write about Signal Transduction and Cellular Signaling - Receptor-Mediated Signaling: Activation of gene expression in response to extracellular signals.\n",
      "\n",
      "Buffington, Cassandra will write about Feedback Regulation and Feedback Inhibition - miRNA-mediated Regulation: Post-transcriptional regulation by microRNAs.\n",
      "\n",
      "Cerullo, Alex will write about Post-Translational Modification - Acetylation/Deacetylation: Addition or removal of acetyl groups to regulate protein function.\n",
      "\n",
      "Cox, Mikayla will write about Promoter Activation and Transcription Initiation - Promoter Binding Proteins: Transcription factors binding to gene promoters.\n",
      "\n",
      "David, Alex will write about Hormonal Regulation - Steroid Hormones: Influence gene expression through nuclear receptors.\n",
      "\n",
      "Fiedler, Zoe will write about Environmental and Metabolic Regulation - Oxygen and Redox Regulation: Cellular oxygen levels affecting gene expression.\n",
      "\n",
      "Frueh, Lauren will write about Promoter Activation and Transcription Initiation - RNA Polymerase Recruitment: Binding of RNA polymerase to gene promoters.\n",
      "\n",
      "Garrity, Keigan will write about Chromatin Remodeling and Epigenetic Regulation - Non-Coding RNAs (ncRNAs): Involvement of microRNAs (miRNAs) and long non-coding RNAs (lncRNAs).\n",
      "\n",
      "Graul, Sydney will write about Chromatin Remodeling and Epigenetic Regulation - Chromatin Remodeling Complexes: Alteration of chromatin structure to allow or restrict transcription.\n",
      "\n",
      "Harrell, Ethan will write about Chromatin Remodeling and Epigenetic Regulation - Histone Modification: Acetylation, methylation, phosphorylation of histone proteins.\n",
      "\n",
      "Hrustanovic, Kanita will write about mRNA Transport and Localization - mRNA Localization Signals: Sequences directing mRNA to specific cellular locations.\n",
      "\n",
      "Husen, Zabiba will write about Stress Response - DNA Damage Response: Activation of repair mechanisms in response to DNA damage.\n",
      "\n",
      "Jones, Austin will write about Promoter Activation and Transcription Initiation - Mediator Complex: Bridges between transcription factors and RNA polymerase.\n",
      "\n",
      "Knutsen, Mitchell will write about Signal Transduction and Cellular Signaling - Phosphorylation/Dephosphorylation: Post-translational modification of proteins to activate or deactivate signaling pathways.\n",
      "\n",
      "Lemma, Isabelle will write about Cellular Localization - Endoplasmic Reticulum (ER) Targeting Signals: Sequences directing proteins to the ER.\n",
      "\n",
      "Manoharan, Sherly will write about Transcription Elongation and Termination - Elongation Factors: Proteins facilitating RNA polymerase movement along the DNA.\n",
      "\n",
      "Metheny, Mark will write about Environmental and Metabolic Regulation - Metabolite Sensing: Cellular metabolite levels impacting gene regulation.\n",
      "\n",
      "OBrian, Anika will write about Protein Folding and Stability - Chaperone Proteins: Assist in proper protein folding.\n",
      "\n",
      "Tangen, Abbie will write about RNA Processing and Modification - Polyadenylation: Addition of poly-A tail to mRNA.\n",
      "\n"
     ]
    }
   ],
   "source": [
    "for i, name in enumerate(Students):\n",
    "    print(f'{name} will write about {GeneRegTopics[i]}\\n')"
   ]
  },
  {
   "cell_type": "code",
   "execution_count": null,
   "id": "4adece79-13d0-4e9f-8e1b-811e272182f7",
   "metadata": {},
   "outputs": [],
   "source": []
  }
 ],
 "metadata": {
  "kernelspec": {
   "display_name": "Python 3",
   "language": "python",
   "name": "python3"
  },
  "language_info": {
   "codemirror_mode": {
    "name": "ipython",
    "version": 3
   },
   "file_extension": ".py",
   "mimetype": "text/x-python",
   "name": "python",
   "nbconvert_exporter": "python",
   "pygments_lexer": "ipython3",
   "version": "3.11.5"
  }
 },
 "nbformat": 4,
 "nbformat_minor": 5
}
